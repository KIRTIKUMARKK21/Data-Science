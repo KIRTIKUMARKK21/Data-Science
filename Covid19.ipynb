{
  "nbformat": 4,
  "nbformat_minor": 0,
  "metadata": {
    "kernelspec": {
      "display_name": "Python 3",
      "language": "python",
      "name": "python3"
    },
    "language_info": {
      "codemirror_mode": {
        "name": "ipython",
        "version": 3
      },
      "file_extension": ".py",
      "mimetype": "text/x-python",
      "name": "python",
      "nbconvert_exporter": "python",
      "pygments_lexer": "ipython3",
      "version": "3.8.5"
    },
    "colab": {
      "name": "Covid19.ipynb",
      "provenance": [],
      "include_colab_link": true
    }
  },
  "cells": [
    {
      "cell_type": "markdown",
      "metadata": {
        "id": "view-in-github",
        "colab_type": "text"
      },
      "source": [
        "<a href=\"https://colab.research.google.com/github/KIRTIKUMARKK21/Data-Science/blob/master/Covid19.ipynb\" target=\"_parent\"><img src=\"https://colab.research.google.com/assets/colab-badge.svg\" alt=\"Open In Colab\"/></a>"
      ]
    },
    {
      "cell_type": "markdown",
      "metadata": {
        "id": "TYkYPrenBQ0t"
      },
      "source": [
        "## Prblm statement-->> predict the total number of confirmed cases"
      ]
    },
    {
      "cell_type": "code",
      "metadata": {
        "id": "sfmBWbpyBQ1B"
      },
      "source": [
        ""
      ],
      "execution_count": null,
      "outputs": []
    },
    {
      "cell_type": "code",
      "metadata": {
        "id": "lT3AnpJiBQ1F"
      },
      "source": [
        "import pandas as pd\n",
        "import numpy as np\n",
        "import matplotlib.pyplot as plt\n",
        "import plotly.express as px\n",
        "import seaborn as sns\n",
        "sns.set()\n",
        "import warnings\n",
        "warnings.filterwarnings('ignore')"
      ],
      "execution_count": null,
      "outputs": []
    },
    {
      "cell_type": "code",
      "metadata": {
        "id": "5wIvYKvBBQ1I",
        "outputId": "5fe15228-27fc-4d76-b1a1-0815273c508f"
      },
      "source": [
        " from fbprophet import Prophet\n",
        "print('Prophet %s' % fbprophet.__version__)"
      ],
      "execution_count": null,
      "outputs": [
        {
          "output_type": "stream",
          "text": [
            "Prophet 0.7.1\n"
          ],
          "name": "stdout"
        }
      ]
    },
    {
      "cell_type": "code",
      "metadata": {
        "id": "OatImpBdBQ1l"
      },
      "source": [
        "df=pd.read_csv(\"covid_19_clean_complete.csv\")"
      ],
      "execution_count": null,
      "outputs": []
    },
    {
      "cell_type": "code",
      "metadata": {
        "id": "aGPSrLZuBQ1o",
        "outputId": "9e118dbf-c034-49f3-fa6b-f614329aeef2"
      },
      "source": [
        "df.head()"
      ],
      "execution_count": null,
      "outputs": [
        {
          "output_type": "execute_result",
          "data": {
            "text/html": [
              "<div>\n",
              "<style scoped>\n",
              "    .dataframe tbody tr th:only-of-type {\n",
              "        vertical-align: middle;\n",
              "    }\n",
              "\n",
              "    .dataframe tbody tr th {\n",
              "        vertical-align: top;\n",
              "    }\n",
              "\n",
              "    .dataframe thead th {\n",
              "        text-align: right;\n",
              "    }\n",
              "</style>\n",
              "<table border=\"1\" class=\"dataframe\">\n",
              "  <thead>\n",
              "    <tr style=\"text-align: right;\">\n",
              "      <th></th>\n",
              "      <th>Province/State</th>\n",
              "      <th>Country/Region</th>\n",
              "      <th>Lat</th>\n",
              "      <th>Long</th>\n",
              "      <th>Date</th>\n",
              "      <th>Confirmed</th>\n",
              "      <th>Deaths</th>\n",
              "      <th>Recovered</th>\n",
              "      <th>Active</th>\n",
              "      <th>WHO Region</th>\n",
              "    </tr>\n",
              "  </thead>\n",
              "  <tbody>\n",
              "    <tr>\n",
              "      <th>0</th>\n",
              "      <td>NaN</td>\n",
              "      <td>Afghanistan</td>\n",
              "      <td>33.93911</td>\n",
              "      <td>67.709953</td>\n",
              "      <td>2020-01-22</td>\n",
              "      <td>0</td>\n",
              "      <td>0</td>\n",
              "      <td>0</td>\n",
              "      <td>0</td>\n",
              "      <td>Eastern Mediterranean</td>\n",
              "    </tr>\n",
              "    <tr>\n",
              "      <th>1</th>\n",
              "      <td>NaN</td>\n",
              "      <td>Albania</td>\n",
              "      <td>41.15330</td>\n",
              "      <td>20.168300</td>\n",
              "      <td>2020-01-22</td>\n",
              "      <td>0</td>\n",
              "      <td>0</td>\n",
              "      <td>0</td>\n",
              "      <td>0</td>\n",
              "      <td>Europe</td>\n",
              "    </tr>\n",
              "    <tr>\n",
              "      <th>2</th>\n",
              "      <td>NaN</td>\n",
              "      <td>Algeria</td>\n",
              "      <td>28.03390</td>\n",
              "      <td>1.659600</td>\n",
              "      <td>2020-01-22</td>\n",
              "      <td>0</td>\n",
              "      <td>0</td>\n",
              "      <td>0</td>\n",
              "      <td>0</td>\n",
              "      <td>Africa</td>\n",
              "    </tr>\n",
              "    <tr>\n",
              "      <th>3</th>\n",
              "      <td>NaN</td>\n",
              "      <td>Andorra</td>\n",
              "      <td>42.50630</td>\n",
              "      <td>1.521800</td>\n",
              "      <td>2020-01-22</td>\n",
              "      <td>0</td>\n",
              "      <td>0</td>\n",
              "      <td>0</td>\n",
              "      <td>0</td>\n",
              "      <td>Europe</td>\n",
              "    </tr>\n",
              "    <tr>\n",
              "      <th>4</th>\n",
              "      <td>NaN</td>\n",
              "      <td>Angola</td>\n",
              "      <td>-11.20270</td>\n",
              "      <td>17.873900</td>\n",
              "      <td>2020-01-22</td>\n",
              "      <td>0</td>\n",
              "      <td>0</td>\n",
              "      <td>0</td>\n",
              "      <td>0</td>\n",
              "      <td>Africa</td>\n",
              "    </tr>\n",
              "  </tbody>\n",
              "</table>\n",
              "</div>"
            ],
            "text/plain": [
              "  Province/State Country/Region       Lat       Long        Date  Confirmed  \\\n",
              "0            NaN    Afghanistan  33.93911  67.709953  2020-01-22          0   \n",
              "1            NaN        Albania  41.15330  20.168300  2020-01-22          0   \n",
              "2            NaN        Algeria  28.03390   1.659600  2020-01-22          0   \n",
              "3            NaN        Andorra  42.50630   1.521800  2020-01-22          0   \n",
              "4            NaN         Angola -11.20270  17.873900  2020-01-22          0   \n",
              "\n",
              "   Deaths  Recovered  Active             WHO Region  \n",
              "0       0          0       0  Eastern Mediterranean  \n",
              "1       0          0       0                 Europe  \n",
              "2       0          0       0                 Africa  \n",
              "3       0          0       0                 Europe  \n",
              "4       0          0       0                 Africa  "
            ]
          },
          "metadata": {
            "tags": []
          },
          "execution_count": 15
        }
      ]
    },
    {
      "cell_type": "code",
      "metadata": {
        "id": "FADwjrD-BQ1u"
      },
      "source": [
        "df['Date']=pd.to_datetime(df['Date'])"
      ],
      "execution_count": null,
      "outputs": []
    },
    {
      "cell_type": "code",
      "metadata": {
        "id": "bFcInSP_BQ12",
        "outputId": "185953b3-7c08-44e0-ea49-b27014b185ec"
      },
      "source": [
        "df.isna().sum()"
      ],
      "execution_count": null,
      "outputs": [
        {
          "output_type": "execute_result",
          "data": {
            "text/plain": [
              "Province/State    34404\n",
              "Country/Region        0\n",
              "Lat                   0\n",
              "Long                  0\n",
              "Date                  0\n",
              "Confirmed             0\n",
              "Deaths                0\n",
              "Recovered             0\n",
              "Active                0\n",
              "WHO Region            0\n",
              "dtype: int64"
            ]
          },
          "metadata": {
            "tags": []
          },
          "execution_count": 17
        }
      ]
    },
    {
      "cell_type": "code",
      "metadata": {
        "id": "Y_DdjAibBQ18"
      },
      "source": [
        "total=df.groupby(['Date'])['Confirmed','Deaths','Recovered','Active'].sum().reset_index()"
      ],
      "execution_count": null,
      "outputs": []
    },
    {
      "cell_type": "code",
      "metadata": {
        "id": "cHrFI_-XBQ1-",
        "outputId": "5b92cf90-3636-43b2-e01f-f08c4d61412b"
      },
      "source": [
        "total.head()"
      ],
      "execution_count": null,
      "outputs": [
        {
          "output_type": "execute_result",
          "data": {
            "text/html": [
              "<div>\n",
              "<style scoped>\n",
              "    .dataframe tbody tr th:only-of-type {\n",
              "        vertical-align: middle;\n",
              "    }\n",
              "\n",
              "    .dataframe tbody tr th {\n",
              "        vertical-align: top;\n",
              "    }\n",
              "\n",
              "    .dataframe thead th {\n",
              "        text-align: right;\n",
              "    }\n",
              "</style>\n",
              "<table border=\"1\" class=\"dataframe\">\n",
              "  <thead>\n",
              "    <tr style=\"text-align: right;\">\n",
              "      <th></th>\n",
              "      <th>Date</th>\n",
              "      <th>Confirmed</th>\n",
              "      <th>Deaths</th>\n",
              "      <th>Recovered</th>\n",
              "      <th>Active</th>\n",
              "    </tr>\n",
              "  </thead>\n",
              "  <tbody>\n",
              "    <tr>\n",
              "      <th>0</th>\n",
              "      <td>2020-01-22</td>\n",
              "      <td>555</td>\n",
              "      <td>17</td>\n",
              "      <td>28</td>\n",
              "      <td>510</td>\n",
              "    </tr>\n",
              "    <tr>\n",
              "      <th>1</th>\n",
              "      <td>2020-01-23</td>\n",
              "      <td>654</td>\n",
              "      <td>18</td>\n",
              "      <td>30</td>\n",
              "      <td>606</td>\n",
              "    </tr>\n",
              "    <tr>\n",
              "      <th>2</th>\n",
              "      <td>2020-01-24</td>\n",
              "      <td>941</td>\n",
              "      <td>26</td>\n",
              "      <td>36</td>\n",
              "      <td>879</td>\n",
              "    </tr>\n",
              "    <tr>\n",
              "      <th>3</th>\n",
              "      <td>2020-01-25</td>\n",
              "      <td>1434</td>\n",
              "      <td>42</td>\n",
              "      <td>39</td>\n",
              "      <td>1353</td>\n",
              "    </tr>\n",
              "    <tr>\n",
              "      <th>4</th>\n",
              "      <td>2020-01-26</td>\n",
              "      <td>2118</td>\n",
              "      <td>56</td>\n",
              "      <td>52</td>\n",
              "      <td>2010</td>\n",
              "    </tr>\n",
              "  </tbody>\n",
              "</table>\n",
              "</div>"
            ],
            "text/plain": [
              "        Date  Confirmed  Deaths  Recovered  Active\n",
              "0 2020-01-22        555      17         28     510\n",
              "1 2020-01-23        654      18         30     606\n",
              "2 2020-01-24        941      26         36     879\n",
              "3 2020-01-25       1434      42         39    1353\n",
              "4 2020-01-26       2118      56         52    2010"
            ]
          },
          "metadata": {
            "tags": []
          },
          "execution_count": 19
        }
      ]
    },
    {
      "cell_type": "code",
      "metadata": {
        "id": "SaNNbO6XBQ2E"
      },
      "source": [
        "df_prophet=total.rename(columns={'Date':'ds','Confirmed':'y'})"
      ],
      "execution_count": null,
      "outputs": []
    },
    {
      "cell_type": "code",
      "metadata": {
        "id": "JTUQFIhhBQ2G",
        "outputId": "b66ff5d7-1cce-44ec-bec3-41193dc0eaf9"
      },
      "source": [
        "df_prophet.head()"
      ],
      "execution_count": null,
      "outputs": [
        {
          "output_type": "execute_result",
          "data": {
            "text/html": [
              "<div>\n",
              "<style scoped>\n",
              "    .dataframe tbody tr th:only-of-type {\n",
              "        vertical-align: middle;\n",
              "    }\n",
              "\n",
              "    .dataframe tbody tr th {\n",
              "        vertical-align: top;\n",
              "    }\n",
              "\n",
              "    .dataframe thead th {\n",
              "        text-align: right;\n",
              "    }\n",
              "</style>\n",
              "<table border=\"1\" class=\"dataframe\">\n",
              "  <thead>\n",
              "    <tr style=\"text-align: right;\">\n",
              "      <th></th>\n",
              "      <th>ds</th>\n",
              "      <th>y</th>\n",
              "      <th>Deaths</th>\n",
              "      <th>Recovered</th>\n",
              "      <th>Active</th>\n",
              "    </tr>\n",
              "  </thead>\n",
              "  <tbody>\n",
              "    <tr>\n",
              "      <th>0</th>\n",
              "      <td>2020-01-22</td>\n",
              "      <td>555</td>\n",
              "      <td>17</td>\n",
              "      <td>28</td>\n",
              "      <td>510</td>\n",
              "    </tr>\n",
              "    <tr>\n",
              "      <th>1</th>\n",
              "      <td>2020-01-23</td>\n",
              "      <td>654</td>\n",
              "      <td>18</td>\n",
              "      <td>30</td>\n",
              "      <td>606</td>\n",
              "    </tr>\n",
              "    <tr>\n",
              "      <th>2</th>\n",
              "      <td>2020-01-24</td>\n",
              "      <td>941</td>\n",
              "      <td>26</td>\n",
              "      <td>36</td>\n",
              "      <td>879</td>\n",
              "    </tr>\n",
              "    <tr>\n",
              "      <th>3</th>\n",
              "      <td>2020-01-25</td>\n",
              "      <td>1434</td>\n",
              "      <td>42</td>\n",
              "      <td>39</td>\n",
              "      <td>1353</td>\n",
              "    </tr>\n",
              "    <tr>\n",
              "      <th>4</th>\n",
              "      <td>2020-01-26</td>\n",
              "      <td>2118</td>\n",
              "      <td>56</td>\n",
              "      <td>52</td>\n",
              "      <td>2010</td>\n",
              "    </tr>\n",
              "  </tbody>\n",
              "</table>\n",
              "</div>"
            ],
            "text/plain": [
              "          ds     y  Deaths  Recovered  Active\n",
              "0 2020-01-22   555      17         28     510\n",
              "1 2020-01-23   654      18         30     606\n",
              "2 2020-01-24   941      26         36     879\n",
              "3 2020-01-25  1434      42         39    1353\n",
              "4 2020-01-26  2118      56         52    2010"
            ]
          },
          "metadata": {
            "tags": []
          },
          "execution_count": 23
        }
      ]
    },
    {
      "cell_type": "code",
      "metadata": {
        "id": "rCTZmu4KBQ2I"
      },
      "source": [
        "m=Prophet()"
      ],
      "execution_count": null,
      "outputs": []
    },
    {
      "cell_type": "code",
      "metadata": {
        "id": "IZA9KWzsBQ2K",
        "outputId": "89c27a24-17a8-4bbb-bc07-eb51360b4627"
      },
      "source": [
        "model=m.fit(df_prophet)"
      ],
      "execution_count": null,
      "outputs": [
        {
          "output_type": "stream",
          "text": [
            "INFO:fbprophet:Disabling yearly seasonality. Run prophet with yearly_seasonality=True to override this.\n",
            "INFO:fbprophet:Disabling daily seasonality. Run prophet with daily_seasonality=True to override this.\n"
          ],
          "name": "stderr"
        }
      ]
    },
    {
      "cell_type": "code",
      "metadata": {
        "id": "VI8f_vStBQ2M",
        "outputId": "51af1696-c65d-4b5f-c475-4cfbb17fcc34"
      },
      "source": [
        "model.seasonalities"
      ],
      "execution_count": null,
      "outputs": [
        {
          "output_type": "execute_result",
          "data": {
            "text/plain": [
              "OrderedDict([('weekly',\n",
              "              {'period': 7,\n",
              "               'fourier_order': 3,\n",
              "               'prior_scale': 10.0,\n",
              "               'mode': 'additive',\n",
              "               'condition_name': None})])"
            ]
          },
          "metadata": {
            "tags": []
          },
          "execution_count": 48
        }
      ]
    },
    {
      "cell_type": "code",
      "metadata": {
        "id": "tfVFzFY3BQ2V"
      },
      "source": [
        "### ### now I am going to do forecasting so to do forecasting I need some Future Days \n",
        "future_global=model.make_future_dataframe(periods=30,freq='D')"
      ],
      "execution_count": null,
      "outputs": []
    },
    {
      "cell_type": "code",
      "metadata": {
        "id": "tCTqUt48BQ2W",
        "outputId": "f3060c97-bcfe-4e29-d6f3-7468f1f66409"
      },
      "source": [
        "future_global.head()"
      ],
      "execution_count": null,
      "outputs": [
        {
          "output_type": "execute_result",
          "data": {
            "text/html": [
              "<div>\n",
              "<style scoped>\n",
              "    .dataframe tbody tr th:only-of-type {\n",
              "        vertical-align: middle;\n",
              "    }\n",
              "\n",
              "    .dataframe tbody tr th {\n",
              "        vertical-align: top;\n",
              "    }\n",
              "\n",
              "    .dataframe thead th {\n",
              "        text-align: right;\n",
              "    }\n",
              "</style>\n",
              "<table border=\"1\" class=\"dataframe\">\n",
              "  <thead>\n",
              "    <tr style=\"text-align: right;\">\n",
              "      <th></th>\n",
              "      <th>ds</th>\n",
              "    </tr>\n",
              "  </thead>\n",
              "  <tbody>\n",
              "    <tr>\n",
              "      <th>0</th>\n",
              "      <td>2020-01-22</td>\n",
              "    </tr>\n",
              "    <tr>\n",
              "      <th>1</th>\n",
              "      <td>2020-01-23</td>\n",
              "    </tr>\n",
              "    <tr>\n",
              "      <th>2</th>\n",
              "      <td>2020-01-24</td>\n",
              "    </tr>\n",
              "    <tr>\n",
              "      <th>3</th>\n",
              "      <td>2020-01-25</td>\n",
              "    </tr>\n",
              "    <tr>\n",
              "      <th>4</th>\n",
              "      <td>2020-01-26</td>\n",
              "    </tr>\n",
              "  </tbody>\n",
              "</table>\n",
              "</div>"
            ],
            "text/plain": [
              "          ds\n",
              "0 2020-01-22\n",
              "1 2020-01-23\n",
              "2 2020-01-24\n",
              "3 2020-01-25\n",
              "4 2020-01-26"
            ]
          },
          "metadata": {
            "tags": []
          },
          "execution_count": 50
        }
      ]
    },
    {
      "cell_type": "code",
      "metadata": {
        "id": "VBJFq_4EBQ2c",
        "outputId": "cf7c8c99-b5d2-4016-fc30-80985c27428a"
      },
      "source": [
        "df_prophet.shape"
      ],
      "execution_count": null,
      "outputs": [
        {
          "output_type": "execute_result",
          "data": {
            "text/plain": [
              "(188, 5)"
            ]
          },
          "metadata": {
            "tags": []
          },
          "execution_count": 51
        }
      ]
    },
    {
      "cell_type": "code",
      "metadata": {
        "id": "7qMRdWflBQ2e",
        "outputId": "a23d330b-0337-4e6d-c408-a40a939e06f1"
      },
      "source": [
        "future_global.shape"
      ],
      "execution_count": null,
      "outputs": [
        {
          "output_type": "execute_result",
          "data": {
            "text/plain": [
              "(218, 1)"
            ]
          },
          "metadata": {
            "tags": []
          },
          "execution_count": 52
        }
      ]
    },
    {
      "cell_type": "code",
      "metadata": {
        "id": "O6_CQB4IBQ2g",
        "outputId": "f08e5f72-1982-4908-a73e-c2039e296809"
      },
      "source": [
        "df_prophet['ds'].tail()"
      ],
      "execution_count": null,
      "outputs": [
        {
          "output_type": "execute_result",
          "data": {
            "text/plain": [
              "183   2020-07-23\n",
              "184   2020-07-24\n",
              "185   2020-07-25\n",
              "186   2020-07-26\n",
              "187   2020-07-27\n",
              "Name: ds, dtype: datetime64[ns]"
            ]
          },
          "metadata": {
            "tags": []
          },
          "execution_count": 53
        }
      ]
    },
    {
      "cell_type": "code",
      "metadata": {
        "id": "yj8gQvPABQ2i",
        "outputId": "eb8d1b29-f269-435d-c84e-8b1bb0a80ec7"
      },
      "source": [
        "future_global.tail()"
      ],
      "execution_count": null,
      "outputs": [
        {
          "output_type": "execute_result",
          "data": {
            "text/html": [
              "<div>\n",
              "<style scoped>\n",
              "    .dataframe tbody tr th:only-of-type {\n",
              "        vertical-align: middle;\n",
              "    }\n",
              "\n",
              "    .dataframe tbody tr th {\n",
              "        vertical-align: top;\n",
              "    }\n",
              "\n",
              "    .dataframe thead th {\n",
              "        text-align: right;\n",
              "    }\n",
              "</style>\n",
              "<table border=\"1\" class=\"dataframe\">\n",
              "  <thead>\n",
              "    <tr style=\"text-align: right;\">\n",
              "      <th></th>\n",
              "      <th>ds</th>\n",
              "    </tr>\n",
              "  </thead>\n",
              "  <tbody>\n",
              "    <tr>\n",
              "      <th>213</th>\n",
              "      <td>2020-08-22</td>\n",
              "    </tr>\n",
              "    <tr>\n",
              "      <th>214</th>\n",
              "      <td>2020-08-23</td>\n",
              "    </tr>\n",
              "    <tr>\n",
              "      <th>215</th>\n",
              "      <td>2020-08-24</td>\n",
              "    </tr>\n",
              "    <tr>\n",
              "      <th>216</th>\n",
              "      <td>2020-08-25</td>\n",
              "    </tr>\n",
              "    <tr>\n",
              "      <th>217</th>\n",
              "      <td>2020-08-26</td>\n",
              "    </tr>\n",
              "  </tbody>\n",
              "</table>\n",
              "</div>"
            ],
            "text/plain": [
              "            ds\n",
              "213 2020-08-22\n",
              "214 2020-08-23\n",
              "215 2020-08-24\n",
              "216 2020-08-25\n",
              "217 2020-08-26"
            ]
          },
          "metadata": {
            "tags": []
          },
          "execution_count": 54
        }
      ]
    },
    {
      "cell_type": "code",
      "metadata": {
        "id": "4wtfaDThBQ2k",
        "outputId": "a065840a-68e9-413f-ba08-d97ad66b40ef"
      },
      "source": [
        "prediction=model.predict(future_global)\n",
        "prediction"
      ],
      "execution_count": null,
      "outputs": [
        {
          "output_type": "execute_result",
          "data": {
            "text/html": [
              "<div>\n",
              "<style scoped>\n",
              "    .dataframe tbody tr th:only-of-type {\n",
              "        vertical-align: middle;\n",
              "    }\n",
              "\n",
              "    .dataframe tbody tr th {\n",
              "        vertical-align: top;\n",
              "    }\n",
              "\n",
              "    .dataframe thead th {\n",
              "        text-align: right;\n",
              "    }\n",
              "</style>\n",
              "<table border=\"1\" class=\"dataframe\">\n",
              "  <thead>\n",
              "    <tr style=\"text-align: right;\">\n",
              "      <th></th>\n",
              "      <th>ds</th>\n",
              "      <th>trend</th>\n",
              "      <th>yhat_lower</th>\n",
              "      <th>yhat_upper</th>\n",
              "      <th>trend_lower</th>\n",
              "      <th>trend_upper</th>\n",
              "      <th>additive_terms</th>\n",
              "      <th>additive_terms_lower</th>\n",
              "      <th>additive_terms_upper</th>\n",
              "      <th>weekly</th>\n",
              "      <th>weekly_lower</th>\n",
              "      <th>weekly_upper</th>\n",
              "      <th>multiplicative_terms</th>\n",
              "      <th>multiplicative_terms_lower</th>\n",
              "      <th>multiplicative_terms_upper</th>\n",
              "      <th>yhat</th>\n",
              "    </tr>\n",
              "  </thead>\n",
              "  <tbody>\n",
              "    <tr>\n",
              "      <th>0</th>\n",
              "      <td>2020-01-22</td>\n",
              "      <td>-9.268944e+03</td>\n",
              "      <td>-1.274228e+05</td>\n",
              "      <td>8.139507e+04</td>\n",
              "      <td>-9.268944e+03</td>\n",
              "      <td>-9.268944e+03</td>\n",
              "      <td>-11031.780803</td>\n",
              "      <td>-11031.780803</td>\n",
              "      <td>-11031.780803</td>\n",
              "      <td>-11031.780803</td>\n",
              "      <td>-11031.780803</td>\n",
              "      <td>-11031.780803</td>\n",
              "      <td>0.0</td>\n",
              "      <td>0.0</td>\n",
              "      <td>0.0</td>\n",
              "      <td>-2.030072e+04</td>\n",
              "    </tr>\n",
              "    <tr>\n",
              "      <th>1</th>\n",
              "      <td>2020-01-23</td>\n",
              "      <td>-6.571116e+03</td>\n",
              "      <td>-1.178169e+05</td>\n",
              "      <td>9.729369e+04</td>\n",
              "      <td>-6.571116e+03</td>\n",
              "      <td>-6.571116e+03</td>\n",
              "      <td>-1113.669082</td>\n",
              "      <td>-1113.669082</td>\n",
              "      <td>-1113.669082</td>\n",
              "      <td>-1113.669082</td>\n",
              "      <td>-1113.669082</td>\n",
              "      <td>-1113.669082</td>\n",
              "      <td>0.0</td>\n",
              "      <td>0.0</td>\n",
              "      <td>0.0</td>\n",
              "      <td>-7.684785e+03</td>\n",
              "    </tr>\n",
              "    <tr>\n",
              "      <th>2</th>\n",
              "      <td>2020-01-24</td>\n",
              "      <td>-3.873289e+03</td>\n",
              "      <td>-1.005477e+05</td>\n",
              "      <td>1.166569e+05</td>\n",
              "      <td>-3.873289e+03</td>\n",
              "      <td>-3.873289e+03</td>\n",
              "      <td>10057.601578</td>\n",
              "      <td>10057.601578</td>\n",
              "      <td>10057.601578</td>\n",
              "      <td>10057.601578</td>\n",
              "      <td>10057.601578</td>\n",
              "      <td>10057.601578</td>\n",
              "      <td>0.0</td>\n",
              "      <td>0.0</td>\n",
              "      <td>0.0</td>\n",
              "      <td>6.184313e+03</td>\n",
              "    </tr>\n",
              "    <tr>\n",
              "      <th>3</th>\n",
              "      <td>2020-01-25</td>\n",
              "      <td>-1.175461e+03</td>\n",
              "      <td>-9.872070e+04</td>\n",
              "      <td>1.124153e+05</td>\n",
              "      <td>-1.175461e+03</td>\n",
              "      <td>-1.175461e+03</td>\n",
              "      <td>13760.408704</td>\n",
              "      <td>13760.408704</td>\n",
              "      <td>13760.408704</td>\n",
              "      <td>13760.408704</td>\n",
              "      <td>13760.408704</td>\n",
              "      <td>13760.408704</td>\n",
              "      <td>0.0</td>\n",
              "      <td>0.0</td>\n",
              "      <td>0.0</td>\n",
              "      <td>1.258495e+04</td>\n",
              "    </tr>\n",
              "    <tr>\n",
              "      <th>4</th>\n",
              "      <td>2020-01-26</td>\n",
              "      <td>1.522366e+03</td>\n",
              "      <td>-9.303359e+04</td>\n",
              "      <td>1.100003e+05</td>\n",
              "      <td>1.522366e+03</td>\n",
              "      <td>1.522366e+03</td>\n",
              "      <td>7282.468544</td>\n",
              "      <td>7282.468544</td>\n",
              "      <td>7282.468544</td>\n",
              "      <td>7282.468544</td>\n",
              "      <td>7282.468544</td>\n",
              "      <td>7282.468544</td>\n",
              "      <td>0.0</td>\n",
              "      <td>0.0</td>\n",
              "      <td>0.0</td>\n",
              "      <td>8.804834e+03</td>\n",
              "    </tr>\n",
              "    <tr>\n",
              "      <th>...</th>\n",
              "      <td>...</td>\n",
              "      <td>...</td>\n",
              "      <td>...</td>\n",
              "      <td>...</td>\n",
              "      <td>...</td>\n",
              "      <td>...</td>\n",
              "      <td>...</td>\n",
              "      <td>...</td>\n",
              "      <td>...</td>\n",
              "      <td>...</td>\n",
              "      <td>...</td>\n",
              "      <td>...</td>\n",
              "      <td>...</td>\n",
              "      <td>...</td>\n",
              "      <td>...</td>\n",
              "      <td>...</td>\n",
              "    </tr>\n",
              "    <tr>\n",
              "      <th>213</th>\n",
              "      <td>2020-08-22</td>\n",
              "      <td>2.143771e+07</td>\n",
              "      <td>2.106786e+07</td>\n",
              "      <td>2.184328e+07</td>\n",
              "      <td>2.106369e+07</td>\n",
              "      <td>2.180431e+07</td>\n",
              "      <td>13760.408704</td>\n",
              "      <td>13760.408704</td>\n",
              "      <td>13760.408704</td>\n",
              "      <td>13760.408704</td>\n",
              "      <td>13760.408704</td>\n",
              "      <td>13760.408704</td>\n",
              "      <td>0.0</td>\n",
              "      <td>0.0</td>\n",
              "      <td>0.0</td>\n",
              "      <td>2.145147e+07</td>\n",
              "    </tr>\n",
              "    <tr>\n",
              "      <th>214</th>\n",
              "      <td>2020-08-23</td>\n",
              "      <td>2.164173e+07</td>\n",
              "      <td>2.121744e+07</td>\n",
              "      <td>2.204038e+07</td>\n",
              "      <td>2.124504e+07</td>\n",
              "      <td>2.202577e+07</td>\n",
              "      <td>7282.468544</td>\n",
              "      <td>7282.468544</td>\n",
              "      <td>7282.468544</td>\n",
              "      <td>7282.468544</td>\n",
              "      <td>7282.468544</td>\n",
              "      <td>7282.468544</td>\n",
              "      <td>0.0</td>\n",
              "      <td>0.0</td>\n",
              "      <td>0.0</td>\n",
              "      <td>2.164901e+07</td>\n",
              "    </tr>\n",
              "    <tr>\n",
              "      <th>215</th>\n",
              "      <td>2020-08-24</td>\n",
              "      <td>2.184575e+07</td>\n",
              "      <td>2.139389e+07</td>\n",
              "      <td>2.225821e+07</td>\n",
              "      <td>2.142505e+07</td>\n",
              "      <td>2.225504e+07</td>\n",
              "      <td>-2115.501587</td>\n",
              "      <td>-2115.501587</td>\n",
              "      <td>-2115.501587</td>\n",
              "      <td>-2115.501587</td>\n",
              "      <td>-2115.501587</td>\n",
              "      <td>-2115.501587</td>\n",
              "      <td>0.0</td>\n",
              "      <td>0.0</td>\n",
              "      <td>0.0</td>\n",
              "      <td>2.184363e+07</td>\n",
              "    </tr>\n",
              "    <tr>\n",
              "      <th>216</th>\n",
              "      <td>2020-08-25</td>\n",
              "      <td>2.204976e+07</td>\n",
              "      <td>2.158908e+07</td>\n",
              "      <td>2.249040e+07</td>\n",
              "      <td>2.159820e+07</td>\n",
              "      <td>2.248369e+07</td>\n",
              "      <td>-16839.527354</td>\n",
              "      <td>-16839.527354</td>\n",
              "      <td>-16839.527354</td>\n",
              "      <td>-16839.527354</td>\n",
              "      <td>-16839.527354</td>\n",
              "      <td>-16839.527354</td>\n",
              "      <td>0.0</td>\n",
              "      <td>0.0</td>\n",
              "      <td>0.0</td>\n",
              "      <td>2.203293e+07</td>\n",
              "    </tr>\n",
              "    <tr>\n",
              "      <th>217</th>\n",
              "      <td>2020-08-26</td>\n",
              "      <td>2.225378e+07</td>\n",
              "      <td>2.174673e+07</td>\n",
              "      <td>2.271221e+07</td>\n",
              "      <td>2.177111e+07</td>\n",
              "      <td>2.271297e+07</td>\n",
              "      <td>-11031.780803</td>\n",
              "      <td>-11031.780803</td>\n",
              "      <td>-11031.780803</td>\n",
              "      <td>-11031.780803</td>\n",
              "      <td>-11031.780803</td>\n",
              "      <td>-11031.780803</td>\n",
              "      <td>0.0</td>\n",
              "      <td>0.0</td>\n",
              "      <td>0.0</td>\n",
              "      <td>2.224275e+07</td>\n",
              "    </tr>\n",
              "  </tbody>\n",
              "</table>\n",
              "<p>218 rows × 16 columns</p>\n",
              "</div>"
            ],
            "text/plain": [
              "            ds         trend    yhat_lower    yhat_upper   trend_lower  \\\n",
              "0   2020-01-22 -9.268944e+03 -1.274228e+05  8.139507e+04 -9.268944e+03   \n",
              "1   2020-01-23 -6.571116e+03 -1.178169e+05  9.729369e+04 -6.571116e+03   \n",
              "2   2020-01-24 -3.873289e+03 -1.005477e+05  1.166569e+05 -3.873289e+03   \n",
              "3   2020-01-25 -1.175461e+03 -9.872070e+04  1.124153e+05 -1.175461e+03   \n",
              "4   2020-01-26  1.522366e+03 -9.303359e+04  1.100003e+05  1.522366e+03   \n",
              "..         ...           ...           ...           ...           ...   \n",
              "213 2020-08-22  2.143771e+07  2.106786e+07  2.184328e+07  2.106369e+07   \n",
              "214 2020-08-23  2.164173e+07  2.121744e+07  2.204038e+07  2.124504e+07   \n",
              "215 2020-08-24  2.184575e+07  2.139389e+07  2.225821e+07  2.142505e+07   \n",
              "216 2020-08-25  2.204976e+07  2.158908e+07  2.249040e+07  2.159820e+07   \n",
              "217 2020-08-26  2.225378e+07  2.174673e+07  2.271221e+07  2.177111e+07   \n",
              "\n",
              "      trend_upper  additive_terms  additive_terms_lower  additive_terms_upper  \\\n",
              "0   -9.268944e+03   -11031.780803         -11031.780803         -11031.780803   \n",
              "1   -6.571116e+03    -1113.669082          -1113.669082          -1113.669082   \n",
              "2   -3.873289e+03    10057.601578          10057.601578          10057.601578   \n",
              "3   -1.175461e+03    13760.408704          13760.408704          13760.408704   \n",
              "4    1.522366e+03     7282.468544           7282.468544           7282.468544   \n",
              "..            ...             ...                   ...                   ...   \n",
              "213  2.180431e+07    13760.408704          13760.408704          13760.408704   \n",
              "214  2.202577e+07     7282.468544           7282.468544           7282.468544   \n",
              "215  2.225504e+07    -2115.501587          -2115.501587          -2115.501587   \n",
              "216  2.248369e+07   -16839.527354         -16839.527354         -16839.527354   \n",
              "217  2.271297e+07   -11031.780803         -11031.780803         -11031.780803   \n",
              "\n",
              "           weekly  weekly_lower  weekly_upper  multiplicative_terms  \\\n",
              "0   -11031.780803 -11031.780803 -11031.780803                   0.0   \n",
              "1    -1113.669082  -1113.669082  -1113.669082                   0.0   \n",
              "2    10057.601578  10057.601578  10057.601578                   0.0   \n",
              "3    13760.408704  13760.408704  13760.408704                   0.0   \n",
              "4     7282.468544   7282.468544   7282.468544                   0.0   \n",
              "..            ...           ...           ...                   ...   \n",
              "213  13760.408704  13760.408704  13760.408704                   0.0   \n",
              "214   7282.468544   7282.468544   7282.468544                   0.0   \n",
              "215  -2115.501587  -2115.501587  -2115.501587                   0.0   \n",
              "216 -16839.527354 -16839.527354 -16839.527354                   0.0   \n",
              "217 -11031.780803 -11031.780803 -11031.780803                   0.0   \n",
              "\n",
              "     multiplicative_terms_lower  multiplicative_terms_upper          yhat  \n",
              "0                           0.0                         0.0 -2.030072e+04  \n",
              "1                           0.0                         0.0 -7.684785e+03  \n",
              "2                           0.0                         0.0  6.184313e+03  \n",
              "3                           0.0                         0.0  1.258495e+04  \n",
              "4                           0.0                         0.0  8.804834e+03  \n",
              "..                          ...                         ...           ...  \n",
              "213                         0.0                         0.0  2.145147e+07  \n",
              "214                         0.0                         0.0  2.164901e+07  \n",
              "215                         0.0                         0.0  2.184363e+07  \n",
              "216                         0.0                         0.0  2.203293e+07  \n",
              "217                         0.0                         0.0  2.224275e+07  \n",
              "\n",
              "[218 rows x 16 columns]"
            ]
          },
          "metadata": {
            "tags": []
          },
          "execution_count": 55
        }
      ]
    },
    {
      "cell_type": "code",
      "metadata": {
        "id": "BWcXfXjdBQ2m",
        "outputId": "90251ac1-7268-401c-c330-36dc29522665"
      },
      "source": [
        "prediction[['ds','yhat','yhat_lower','yhat_upper']].tail()"
      ],
      "execution_count": null,
      "outputs": [
        {
          "output_type": "execute_result",
          "data": {
            "text/html": [
              "<div>\n",
              "<style scoped>\n",
              "    .dataframe tbody tr th:only-of-type {\n",
              "        vertical-align: middle;\n",
              "    }\n",
              "\n",
              "    .dataframe tbody tr th {\n",
              "        vertical-align: top;\n",
              "    }\n",
              "\n",
              "    .dataframe thead th {\n",
              "        text-align: right;\n",
              "    }\n",
              "</style>\n",
              "<table border=\"1\" class=\"dataframe\">\n",
              "  <thead>\n",
              "    <tr style=\"text-align: right;\">\n",
              "      <th></th>\n",
              "      <th>ds</th>\n",
              "      <th>yhat</th>\n",
              "      <th>yhat_lower</th>\n",
              "      <th>yhat_upper</th>\n",
              "    </tr>\n",
              "  </thead>\n",
              "  <tbody>\n",
              "    <tr>\n",
              "      <th>213</th>\n",
              "      <td>2020-08-22</td>\n",
              "      <td>2.145147e+07</td>\n",
              "      <td>2.106786e+07</td>\n",
              "      <td>2.184328e+07</td>\n",
              "    </tr>\n",
              "    <tr>\n",
              "      <th>214</th>\n",
              "      <td>2020-08-23</td>\n",
              "      <td>2.164901e+07</td>\n",
              "      <td>2.121744e+07</td>\n",
              "      <td>2.204038e+07</td>\n",
              "    </tr>\n",
              "    <tr>\n",
              "      <th>215</th>\n",
              "      <td>2020-08-24</td>\n",
              "      <td>2.184363e+07</td>\n",
              "      <td>2.139389e+07</td>\n",
              "      <td>2.225821e+07</td>\n",
              "    </tr>\n",
              "    <tr>\n",
              "      <th>216</th>\n",
              "      <td>2020-08-25</td>\n",
              "      <td>2.203293e+07</td>\n",
              "      <td>2.158908e+07</td>\n",
              "      <td>2.249040e+07</td>\n",
              "    </tr>\n",
              "    <tr>\n",
              "      <th>217</th>\n",
              "      <td>2020-08-26</td>\n",
              "      <td>2.224275e+07</td>\n",
              "      <td>2.174673e+07</td>\n",
              "      <td>2.271221e+07</td>\n",
              "    </tr>\n",
              "  </tbody>\n",
              "</table>\n",
              "</div>"
            ],
            "text/plain": [
              "            ds          yhat    yhat_lower    yhat_upper\n",
              "213 2020-08-22  2.145147e+07  2.106786e+07  2.184328e+07\n",
              "214 2020-08-23  2.164901e+07  2.121744e+07  2.204038e+07\n",
              "215 2020-08-24  2.184363e+07  2.139389e+07  2.225821e+07\n",
              "216 2020-08-25  2.203293e+07  2.158908e+07  2.249040e+07\n",
              "217 2020-08-26  2.224275e+07  2.174673e+07  2.271221e+07"
            ]
          },
          "metadata": {
            "tags": []
          },
          "execution_count": 56
        }
      ]
    },
    {
      "cell_type": "code",
      "metadata": {
        "id": "JpNHBGr1BQ2n",
        "outputId": "63e8b39a-e97b-485f-b587-7540b5cec467"
      },
      "source": [
        "0"
      ],
      "execution_count": null,
      "outputs": [
        {
          "output_type": "execute_result",
          "data": {
            "image/png": "[encoded data removed]",
            "text/plain": [
              "<Figure size 720x432 with 1 Axes>"
            ]
          },
          "metadata": {
            "tags": []
          },
          "execution_count": 57
        },
        {
          "output_type": "display_data",
          "data": {
            "image/png": "[encoded data removed]",
            "text/plain": [
              "<Figure size 720x432 with 1 Axes>"
            ]
          },
          "metadata": {
            "tags": []
          }
        }
      ]
    },
    {
      "cell_type": "code",
      "metadata": {
        "id": "7VWpsrSVBQ2q",
        "outputId": "1f099741-2d0d-4d86-8aad-1ccef20ca21a"
      },
      "source": [
        "model.plot_components(prediction)"
      ],
      "execution_count": null,
      "outputs": [
        {
          "output_type": "execute_result",
          "data": {
            "image/png": "[encoded data removed]",
            "text/plain": [
              "<Figure size 648x432 with 2 Axes>"
            ]
          },
          "metadata": {
            "tags": []
          },
          "execution_count": 59
        },
        {
          "output_type": "display_data",
          "data": {
            "image/png": "[encoded data removed]",
            "text/plain": [
              "<Figure size 648x432 with 2 Axes>"
            ]
          },
          "metadata": {
            "tags": []
          }
        }
      ]
    },
    {
      "cell_type": "code",
      "metadata": {
        "id": "rdWVxvHiBQ2s"
      },
      "source": [
        "#### The prophet model identifies points at which the trend changes and those can be plotted.¶\n",
        "from fbprophet.plot import add_changepoints_to_plot"
      ],
      "execution_count": null,
      "outputs": []
    },
    {
      "cell_type": "code",
      "metadata": {
        "id": "467aWpK4BQ2t",
        "outputId": "4fd1fa9c-079f-4d52-e9df-e54fafba40c2"
      },
      "source": [
        "fig=model.plot(prediction)\n",
        "\n",
        "a=add_changepoints_to_plot(fig.gca(),model,prediction)"
      ],
      "execution_count": null,
      "outputs": [
        {
          "output_type": "display_data",
          "data": {
            "image/png": "[encoded data removed]",
            "text/plain": [
              "<Figure size 720x432 with 1 Axes>"
            ]
          },
          "metadata": {
            "tags": []
          }
        }
      ]
    },
    {
      "cell_type": "code",
      "metadata": {
        "id": "-0uW370bBQ2v"
      },
      "source": [
        "from fbprophet.diagnostics import cross_validation"
      ],
      "execution_count": null,
      "outputs": []
    },
    {
      "cell_type": "code",
      "metadata": {
        "id": "-UVkLyZ5BQ2y",
        "outputId": "576c7bf2-7feb-405e-8d0e-97b47dd95205",
        "colab": {
          "referenced_widgets": [
            "7aaeb83af4804c348836bf986293e8ea"
          ]
        }
      },
      "source": [
        "df_cv=cross_validation(model,horizon='30 days',period='15 days',initial='90 days')\n",
        "## horizon='365 days'--> for how many days we have to cross validate=====\n",
        "\n",
        "## Computes forecasts from historical cutoff points Beginning from..\n",
        "\n",
        "## (end - horizon) it means it is going to take that date that is (end - horizon) bcz on these date we have to just \n",
        "## cross-validate for the new dataset that we have to find out\n",
        "\n",
        "## period=180 as from documentation of func as period=0.5*365=180 or {period=1/2*horizon value}\n",
        "## initial -How many total no. of days we actually want-- 3*365 from documentation of function or  {initial=3*horizon}"
      ],
      "execution_count": null,
      "outputs": [
        {
          "output_type": "stream",
          "text": [
            "INFO:fbprophet:Making 5 forecasts with cutoffs between 2020-04-28 00:00:00 and 2020-06-27 00:00:00\n"
          ],
          "name": "stderr"
        },
        {
          "output_type": "display_data",
          "data": {
            "application/vnd.jupyter.widget-view+json": {
              "model_id": "7aaeb83af4804c348836bf986293e8ea",
              "version_major": 2,
              "version_minor": 0
            },
            "text/plain": [
              "  0%|          | 0/5 [00:00<?, ?it/s]"
            ]
          },
          "metadata": {
            "tags": []
          }
        }
      ]
    },
    {
      "cell_type": "code",
      "metadata": {
        "id": "P0kFZlV0BQ20",
        "outputId": "acf06ebf-2946-4bc9-8b0e-513edf0f1995"
      },
      "source": [
        "df_cv.head()"
      ],
      "execution_count": null,
      "outputs": [
        {
          "output_type": "execute_result",
          "data": {
            "text/html": [
              "<div>\n",
              "<style scoped>\n",
              "    .dataframe tbody tr th:only-of-type {\n",
              "        vertical-align: middle;\n",
              "    }\n",
              "\n",
              "    .dataframe tbody tr th {\n",
              "        vertical-align: top;\n",
              "    }\n",
              "\n",
              "    .dataframe thead th {\n",
              "        text-align: right;\n",
              "    }\n",
              "</style>\n",
              "<table border=\"1\" class=\"dataframe\">\n",
              "  <thead>\n",
              "    <tr style=\"text-align: right;\">\n",
              "      <th></th>\n",
              "      <th>ds</th>\n",
              "      <th>yhat</th>\n",
              "      <th>yhat_lower</th>\n",
              "      <th>yhat_upper</th>\n",
              "      <th>y</th>\n",
              "      <th>cutoff</th>\n",
              "    </tr>\n",
              "  </thead>\n",
              "  <tbody>\n",
              "    <tr>\n",
              "      <th>0</th>\n",
              "      <td>2020-04-29</td>\n",
              "      <td>3.201064e+06</td>\n",
              "      <td>3.195872e+06</td>\n",
              "      <td>3.206328e+06</td>\n",
              "      <td>3185195</td>\n",
              "      <td>2020-04-28</td>\n",
              "    </tr>\n",
              "    <tr>\n",
              "      <th>1</th>\n",
              "      <td>2020-04-30</td>\n",
              "      <td>3.285432e+06</td>\n",
              "      <td>3.279479e+06</td>\n",
              "      <td>3.291630e+06</td>\n",
              "      <td>3268876</td>\n",
              "      <td>2020-04-28</td>\n",
              "    </tr>\n",
              "    <tr>\n",
              "      <th>2</th>\n",
              "      <td>2020-05-01</td>\n",
              "      <td>3.369640e+06</td>\n",
              "      <td>3.361087e+06</td>\n",
              "      <td>3.378356e+06</td>\n",
              "      <td>3355922</td>\n",
              "      <td>2020-04-28</td>\n",
              "    </tr>\n",
              "    <tr>\n",
              "      <th>3</th>\n",
              "      <td>2020-05-02</td>\n",
              "      <td>3.450902e+06</td>\n",
              "      <td>3.438559e+06</td>\n",
              "      <td>3.462812e+06</td>\n",
              "      <td>3437608</td>\n",
              "      <td>2020-04-28</td>\n",
              "    </tr>\n",
              "    <tr>\n",
              "      <th>4</th>\n",
              "      <td>2020-05-03</td>\n",
              "      <td>3.530365e+06</td>\n",
              "      <td>3.513950e+06</td>\n",
              "      <td>3.548535e+06</td>\n",
              "      <td>3515244</td>\n",
              "      <td>2020-04-28</td>\n",
              "    </tr>\n",
              "  </tbody>\n",
              "</table>\n",
              "</div>"
            ],
            "text/plain": [
              "          ds          yhat    yhat_lower    yhat_upper        y     cutoff\n",
              "0 2020-04-29  3.201064e+06  3.195872e+06  3.206328e+06  3185195 2020-04-28\n",
              "1 2020-04-30  3.285432e+06  3.279479e+06  3.291630e+06  3268876 2020-04-28\n",
              "2 2020-05-01  3.369640e+06  3.361087e+06  3.378356e+06  3355922 2020-04-28\n",
              "3 2020-05-02  3.450902e+06  3.438559e+06  3.462812e+06  3437608 2020-04-28\n",
              "4 2020-05-03  3.530365e+06  3.513950e+06  3.548535e+06  3515244 2020-04-28"
            ]
          },
          "metadata": {
            "tags": []
          },
          "execution_count": 64
        }
      ]
    },
    {
      "cell_type": "code",
      "metadata": {
        "id": "ZnrxD6DGBQ21",
        "outputId": "3c945b93-7850-47c3-be01-0421daa727bd"
      },
      "source": [
        "df_cv.shape"
      ],
      "execution_count": null,
      "outputs": [
        {
          "output_type": "execute_result",
          "data": {
            "text/plain": [
              "(150, 6)"
            ]
          },
          "metadata": {
            "tags": []
          },
          "execution_count": 65
        }
      ]
    },
    {
      "cell_type": "code",
      "metadata": {
        "id": "bq7uxz-cBQ22"
      },
      "source": [
        "from fbprophet.diagnostics import performance_metrics"
      ],
      "execution_count": null,
      "outputs": []
    },
    {
      "cell_type": "code",
      "metadata": {
        "id": "sl-EeSuQBQ23",
        "outputId": "711d81ba-5422-444b-f097-745913d9ea00"
      },
      "source": [
        "df_performance=performance_metrics(df_cv)\n",
        "df_performance.head()"
      ],
      "execution_count": null,
      "outputs": [
        {
          "output_type": "execute_result",
          "data": {
            "text/html": [
              "<div>\n",
              "<style scoped>\n",
              "    .dataframe tbody tr th:only-of-type {\n",
              "        vertical-align: middle;\n",
              "    }\n",
              "\n",
              "    .dataframe tbody tr th {\n",
              "        vertical-align: top;\n",
              "    }\n",
              "\n",
              "    .dataframe thead th {\n",
              "        text-align: right;\n",
              "    }\n",
              "</style>\n",
              "<table border=\"1\" class=\"dataframe\">\n",
              "  <thead>\n",
              "    <tr style=\"text-align: right;\">\n",
              "      <th></th>\n",
              "      <th>horizon</th>\n",
              "      <th>mse</th>\n",
              "      <th>rmse</th>\n",
              "      <th>mae</th>\n",
              "      <th>mape</th>\n",
              "      <th>mdape</th>\n",
              "      <th>coverage</th>\n",
              "    </tr>\n",
              "  </thead>\n",
              "  <tbody>\n",
              "    <tr>\n",
              "      <th>0</th>\n",
              "      <td>3 days</td>\n",
              "      <td>2.731076e+10</td>\n",
              "      <td>165259.681472</td>\n",
              "      <td>129462.462411</td>\n",
              "      <td>0.016903</td>\n",
              "      <td>0.017772</td>\n",
              "      <td>0.000000</td>\n",
              "    </tr>\n",
              "    <tr>\n",
              "      <th>1</th>\n",
              "      <td>4 days</td>\n",
              "      <td>3.782418e+10</td>\n",
              "      <td>194484.405016</td>\n",
              "      <td>151678.545078</td>\n",
              "      <td>0.019368</td>\n",
              "      <td>0.022607</td>\n",
              "      <td>0.000000</td>\n",
              "    </tr>\n",
              "    <tr>\n",
              "      <th>2</th>\n",
              "      <td>5 days</td>\n",
              "      <td>5.185037e+10</td>\n",
              "      <td>227706.765522</td>\n",
              "      <td>175530.272014</td>\n",
              "      <td>0.021820</td>\n",
              "      <td>0.025735</td>\n",
              "      <td>0.066667</td>\n",
              "    </tr>\n",
              "    <tr>\n",
              "      <th>3</th>\n",
              "      <td>6 days</td>\n",
              "      <td>6.955547e+10</td>\n",
              "      <td>263733.715201</td>\n",
              "      <td>202525.306643</td>\n",
              "      <td>0.024599</td>\n",
              "      <td>0.026730</td>\n",
              "      <td>0.133333</td>\n",
              "    </tr>\n",
              "    <tr>\n",
              "      <th>4</th>\n",
              "      <td>7 days</td>\n",
              "      <td>9.034875e+10</td>\n",
              "      <td>300580.681849</td>\n",
              "      <td>232879.528793</td>\n",
              "      <td>0.027881</td>\n",
              "      <td>0.031285</td>\n",
              "      <td>0.200000</td>\n",
              "    </tr>\n",
              "  </tbody>\n",
              "</table>\n",
              "</div>"
            ],
            "text/plain": [
              "  horizon           mse           rmse            mae      mape     mdape  \\\n",
              "0  3 days  2.731076e+10  165259.681472  129462.462411  0.016903  0.017772   \n",
              "1  4 days  3.782418e+10  194484.405016  151678.545078  0.019368  0.022607   \n",
              "2  5 days  5.185037e+10  227706.765522  175530.272014  0.021820  0.025735   \n",
              "3  6 days  6.955547e+10  263733.715201  202525.306643  0.024599  0.026730   \n",
              "4  7 days  9.034875e+10  300580.681849  232879.528793  0.027881  0.031285   \n",
              "\n",
              "   coverage  \n",
              "0  0.000000  \n",
              "1  0.000000  \n",
              "2  0.066667  \n",
              "3  0.133333  \n",
              "4  0.200000  "
            ]
          },
          "metadata": {
            "tags": []
          },
          "execution_count": 67
        }
      ]
    },
    {
      "cell_type": "code",
      "metadata": {
        "id": "AlvMuFYIBQ25"
      },
      "source": [
        "from fbprophet.plot import plot_cross_validation_metric"
      ],
      "execution_count": null,
      "outputs": []
    },
    {
      "cell_type": "code",
      "metadata": {
        "id": "gar1hKHvBQ26",
        "outputId": "d561105c-b64f-476e-badd-d898f0549fbb"
      },
      "source": [
        "df_performance=plot_cross_validation_metric(df_cv,metric='rmse')"
      ],
      "execution_count": null,
      "outputs": [
        {
          "output_type": "display_data",
          "data": {
            "image/png": "[encoded data removed]",
            "text/plain": [
              "<Figure size 720x432 with 1 Axes>"
            ]
          },
          "metadata": {
            "tags": []
          }
        }
      ]
    },
    {
      "cell_type": "code",
      "metadata": {
        "id": "6pz5a2AJBQ28",
        "outputId": "6b6e02d0-7e15-4fc8-972f-13472914a32e"
      },
      "source": [
        "df_performance=plot_cross_validation_metric(df_cv,metric='mse')"
      ],
      "execution_count": null,
      "outputs": [
        {
          "output_type": "display_data",
          "data": {
            "image/png": "[encoded data removed]",
            "text/plain": [
              "<Figure size 720x432 with 1 Axes>"
            ]
          },
          "metadata": {
            "tags": []
          }
        }
      ]
    },
    {
      "cell_type": "code",
      "metadata": {
        "id": "ZQly23XnBQ29",
        "outputId": "c8971726-c4a9-4d74-a896-5eee6d1ba5af"
      },
      "source": [
        "df_performance=plot_cross_validation_metric(df_cv,metric='mape')"
      ],
      "execution_count": null,
      "outputs": [
        {
          "output_type": "display_data",
          "data": {
            "image/png": "[encoded data removed]",
            "text/plain": [
              "<Figure size 720x432 with 1 Axes>"
            ]
          },
          "metadata": {
            "tags": []
          }
        }
      ]
    },
    {
      "cell_type": "code",
      "metadata": {
        "id": "jXUORk5XBQ2-"
      },
      "source": [
        ""
      ],
      "execution_count": null,
      "outputs": []
    }
  ]
}